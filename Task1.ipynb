{
 "cells": [
  {
   "cell_type": "code",
   "execution_count": null,
   "id": "306ca694-17b1-4bbe-9bfd-b7e1566e2cf2",
   "metadata": {},
   "outputs": [],
   "source": [
    "# Converting temperature in Celsius to Farengheit"
   ]
  },
  {
   "cell_type": "code",
   "execution_count": 8,
   "id": "7fe221e7-9711-4b58-a027-603171ed6ca1",
   "metadata": {
    "tags": []
   },
   "outputs": [
    {
     "name": "stdin",
     "output_type": "stream",
     "text": [
      "Input degrees in Celsius:  23\n"
     ]
    },
    {
     "name": "stdout",
     "output_type": "stream",
     "text": [
      "73.4\n"
     ]
    }
   ],
   "source": [
    "celsius = input('Input degrees in Celsius: ')\n",
    "try: \n",
    "    celsius = float(celsius)\n",
    "    \n",
    "    fahrenheit = celsius * 1.8 + 32\n",
    "    print(fahrenheit)\n",
    "except:\n",
    "    print('Imput number')"
   ]
  }
 ],
 "metadata": {
  "kernelspec": {
   "display_name": "Python 3 (ipykernel)",
   "language": "python",
   "name": "python3"
  },
  "language_info": {
   "codemirror_mode": {
    "name": "ipython",
    "version": 3
   },
   "file_extension": ".py",
   "mimetype": "text/x-python",
   "name": "python",
   "nbconvert_exporter": "python",
   "pygments_lexer": "ipython3",
   "version": "3.10.9"
  }
 },
 "nbformat": 4,
 "nbformat_minor": 5
}
