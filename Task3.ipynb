{
 "cells": [
  {
   "cell_type": "code",
   "execution_count": null,
   "id": "d0efd1bc-64bc-4af2-aff1-b0a8081631d1",
   "metadata": {},
   "outputs": [],
   "source": [
    "# Calculation of the deposit amount"
   ]
  },
  {
   "cell_type": "code",
   "execution_count": 1,
   "id": "69b9e0ef-a279-4688-aafa-1e7fc55b19ae",
   "metadata": {
    "tags": []
   },
   "outputs": [
    {
     "name": "stdin",
     "output_type": "stream",
     "text": [
      "Enter the deposit amount:  34576\n",
      "Enter the deposit term:  3\n",
      "Enter the annual interest rate:  30%\n"
     ]
    },
    {
     "name": "stdout",
     "output_type": "stream",
     "text": [
      "Enter correct values: \n"
     ]
    }
   ],
   "source": [
    "summ = input('Enter the deposit amount: ')\n",
    "srok = input('Enter the deposit term: ')\n",
    "proc = input('Enter the annual interest rate: ')\n",
    "\n",
    "try:\n",
    "    summ = float(summ)\n",
    "    srok = int(srok)\n",
    "    proc = float(proc)\n",
    "\n",
    "    S = summ * ((1 + proc/100) ** n)\n",
    "    print(S)\n",
    "except:\n",
    "    print('Enter correct values')"
   ]
  },
  {
   "cell_type": "code",
   "execution_count": null,
   "id": "9eb1b3ea-f6ed-4e14-8efd-6b28d1027fce",
   "metadata": {},
   "outputs": [],
   "source": []
  }
 ],
 "metadata": {
  "kernelspec": {
   "display_name": "Python 3 (ipykernel)",
   "language": "python",
   "name": "python3"
  },
  "language_info": {
   "codemirror_mode": {
    "name": "ipython",
    "version": 3
   },
   "file_extension": ".py",
   "mimetype": "text/x-python",
   "name": "python",
   "nbconvert_exporter": "python",
   "pygments_lexer": "ipython3",
   "version": "3.10.9"
  }
 },
 "nbformat": 4,
 "nbformat_minor": 5
}
