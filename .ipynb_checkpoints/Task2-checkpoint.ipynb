{
 "cells": [
  {
   "cell_type": "code",
   "execution_count": null,
   "id": "ea153835-02eb-4b4b-b990-c2838e6cd687",
   "metadata": {},
   "outputs": [],
   "source": [
    "# Discriminant calculation and equations of the second degree solving"
   ]
  },
  {
   "cell_type": "code",
   "execution_count": 1,
   "id": "83a8b8cb-64c4-4373-8ef1-dfc41acf96a3",
   "metadata": {
    "tags": []
   },
   "outputs": [
    {
     "name": "stdin",
     "output_type": "stream",
     "text": [
      "Imput A:  3\n",
      "Imput B:  6\n",
      "Imput C:  0\n"
     ]
    },
    {
     "name": "stdout",
     "output_type": "stream",
     "text": [
      "[0.0, -2.0]\n"
     ]
    }
   ],
   "source": [
    "a = input('Imput A: ')\n",
    "b = input('Imput B: ')\n",
    "c = input('Imput C: ')\n",
    "\n",
    "try:\n",
    "    a = float(a)\n",
    "    b = float(b)\n",
    "    c = float(c)\n",
    "\n",
    "    d = b ** 2 - 4 * a * c\n",
    "    if d > 0:\n",
    "        firstx = (- b + d ** (1 / 2))/(2 * a)\n",
    "        secondx = (- b - d ** (1 / 2))/(2 * a)\n",
    "        x = [firstx, secondx]\n",
    "        print(x)\n",
    "    elif d == 0:\n",
    "        x = - b / (2 * a)\n",
    "        print(x)\n",
    "    elif d < 0:\n",
    "        print('No solution')\n",
    "except:\n",
    "    print('Please enter correct values')"
   ]
  },
  {
   "cell_type": "code",
   "execution_count": null,
   "id": "ecd60e7e-198f-49d6-82a9-3ea30d4b4050",
   "metadata": {},
   "outputs": [],
   "source": []
  }
 ],
 "metadata": {
  "kernelspec": {
   "display_name": "Python 3 (ipykernel)",
   "language": "python",
   "name": "python3"
  },
  "language_info": {
   "codemirror_mode": {
    "name": "ipython",
    "version": 3
   },
   "file_extension": ".py",
   "mimetype": "text/x-python",
   "name": "python",
   "nbconvert_exporter": "python",
   "pygments_lexer": "ipython3",
   "version": "3.10.9"
  }
 },
 "nbformat": 4,
 "nbformat_minor": 5
}
